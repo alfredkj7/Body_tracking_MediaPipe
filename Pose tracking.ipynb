{
 "cells": [
  {
   "cell_type": "code",
   "execution_count": 2,
   "metadata": {},
   "outputs": [
    {
     "name": "stdout",
     "output_type": "stream",
     "text": [
      "Total points:\n",
      "59.39342096151628 out of 100\n"
     ]
    }
   ],
   "source": [
    "import cv2\n",
    "import mediapipe as mp\n",
    "import math\n",
    "mp_drawing = mp.solutions.drawing_utils\n",
    "mp_pose = mp.solutions.pose\n",
    "\n",
    "drawing_spec = mp_drawing.DrawingSpec(thickness=1, circle_radius=1)\n",
    "frame = 0\n",
    "tot_point = 0\n",
    "#Loading the videos:\n",
    "cap1 = cv2.VideoCapture('video.mp4')\n",
    "cap2 = cv2.VideoCapture('video4.mp4')\n",
    "\n",
    "with mp_pose.Pose(min_detection_confidence=0.5, min_tracking_confidence=0.5) as pose:\n",
    "    #Iterating through each frame in the video:\n",
    "    while(True):\n",
    "        ret1, image1 = cap1.read()\n",
    "        ret2, image2 = cap2.read()\n",
    "\n",
    "        if not ret1 or not ret2:\n",
    "            break\n",
    "            \n",
    "        results1 = pose.process(image1)\n",
    "        results2 = pose.process(image2)\n",
    "        frame += 1\n",
    "        frame_point = 0\n",
    "        \n",
    "        #Iterating through each landmark in a frame:\n",
    "        for i in range(0,33):\n",
    "            #For frames of first video:\n",
    "            image_height1, image_width1, _ = image1.shape\n",
    "            x_coord1 = (results1.pose_landmarks.landmark[i].x - 0.5) * image_width1\n",
    "            y_coord1 = (results1.pose_landmarks.landmark[i].y - 0.5) * image_height1\n",
    "            z_coord1 = (results1.pose_landmarks.landmark[i].z) \n",
    "            \n",
    "            #For frames of second video:\n",
    "            image_height2, image_width2, _ = image2.shape\n",
    "            x_coord2 = (results2.pose_landmarks.landmark[i].x - 0.5) * image_width2\n",
    "            y_coord2 = (results2.pose_landmarks.landmark[i].y - 0.5) * image_height2\n",
    "            z_coord2 = (results2.pose_landmarks.landmark[i].z)\n",
    "            \n",
    "            #Calculating points for a frame, specifically for certain landmarks\n",
    "            if i in range(13,23):\n",
    "                point = ((x_coord1*x_coord2) + (y_coord1*y_coord2) + (z_coord1*z_coord2))/((math.sqrt(x_coord1**2 + y_coord1**2 + z_coord1**2))*(math.sqrt(x_coord2**2 + y_coord2**2 + z_coord2**2)))\n",
    "                frame_point += point\n",
    "                \n",
    "        mp_drawing.draw_landmarks(image1, results1.pose_landmarks, mp_pose.POSE_CONNECTIONS, landmark_drawing_spec=drawing_spec, connection_drawing_spec=drawing_spec)\n",
    "        mp_drawing.draw_landmarks(image2, results2.pose_landmarks, mp_pose.POSE_CONNECTIONS, landmark_drawing_spec=drawing_spec, connection_drawing_spec=drawing_spec)\n",
    "        tot_point += frame_point\n",
    "        im_h = cv2.hconcat([image1, image2])\n",
    "        cv2.imshow('Video', im_h)\n",
    "        if cv2.waitKey(1) & 0xFF == ord('q'):\n",
    "            break\n",
    "\n",
    "#Calculating average point of all the frames\n",
    "print(\"Total points:\")\n",
    "print(tot_point*100/(frame*10), \"out of 100\")\n",
    "cap1.release()\n",
    "cap2.release()\n",
    "cv2.destroyAllWindows()"
   ]
  },
  {
   "cell_type": "code",
   "execution_count": null,
   "metadata": {},
   "outputs": [],
   "source": []
  }
 ],
 "metadata": {
  "kernelspec": {
   "display_name": "Python 3",
   "language": "python",
   "name": "python3"
  },
  "language_info": {
   "codemirror_mode": {
    "name": "ipython",
    "version": 3
   },
   "file_extension": ".py",
   "mimetype": "text/x-python",
   "name": "python",
   "nbconvert_exporter": "python",
   "pygments_lexer": "ipython3",
   "version": "3.8.0"
  }
 },
 "nbformat": 4,
 "nbformat_minor": 4
}
